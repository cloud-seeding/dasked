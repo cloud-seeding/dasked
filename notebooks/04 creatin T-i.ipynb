{
 "cells": [
  {
   "cell_type": "code",
   "execution_count": 1,
   "metadata": {},
   "outputs": [],
   "source": [
    "import numpy as np\n",
    "import pandas as pd\n",
    "import matplotlib.pyplot as plt\n",
    "import seaborn as sns\n",
    "\n",
    "plt.rcParams['figure.dpi'] = 600\n",
    "plt.rcParams['savefig.dpi'] = 600\n",
    "\n",
    "sns.set_theme(style='darkgrid', palette='viridis', rc={\n",
    "              \"figure.dpi\": 600, 'savefig.dpi': 600, 'figure.figsize': (11.7, 8.27)})"
   ]
  },
  {
   "cell_type": "code",
   "execution_count": 2,
   "metadata": {},
   "outputs": [
    {
     "data": {
      "text/html": [
       "<div>\n",
       "<style scoped>\n",
       "    .dataframe tbody tr th:only-of-type {\n",
       "        vertical-align: middle;\n",
       "    }\n",
       "\n",
       "    .dataframe tbody tr th {\n",
       "        vertical-align: top;\n",
       "    }\n",
       "\n",
       "    .dataframe thead th {\n",
       "        text-align: right;\n",
       "    }\n",
       "</style>\n",
       "<table border=\"1\" class=\"dataframe\">\n",
       "  <thead>\n",
       "    <tr style=\"text-align: right;\">\n",
       "      <th></th>\n",
       "      <th>_uid_</th>\n",
       "      <th>id</th>\n",
       "      <th>longitude</th>\n",
       "      <th>latitude</th>\n",
       "      <th>initialdate</th>\n",
       "      <th>days</th>\n",
       "    </tr>\n",
       "  </thead>\n",
       "  <tbody>\n",
       "    <tr>\n",
       "      <th>0</th>\n",
       "      <td>16.0</td>\n",
       "      <td>966855.0</td>\n",
       "      <td>-2.107749e+06</td>\n",
       "      <td>1.663840e+06</td>\n",
       "      <td>2002-01-08</td>\n",
       "      <td>0</td>\n",
       "    </tr>\n",
       "    <tr>\n",
       "      <th>1</th>\n",
       "      <td>19.0</td>\n",
       "      <td>966859.0</td>\n",
       "      <td>-1.599552e+06</td>\n",
       "      <td>1.247091e+06</td>\n",
       "      <td>2002-01-08</td>\n",
       "      <td>7</td>\n",
       "    </tr>\n",
       "    <tr>\n",
       "      <th>2</th>\n",
       "      <td>19.0</td>\n",
       "      <td>966859.0</td>\n",
       "      <td>-1.599552e+06</td>\n",
       "      <td>1.247091e+06</td>\n",
       "      <td>2002-01-09</td>\n",
       "      <td>7</td>\n",
       "    </tr>\n",
       "    <tr>\n",
       "      <th>3</th>\n",
       "      <td>17.0</td>\n",
       "      <td>966856.0</td>\n",
       "      <td>-2.106833e+06</td>\n",
       "      <td>1.661532e+06</td>\n",
       "      <td>2002-01-10</td>\n",
       "      <td>0</td>\n",
       "    </tr>\n",
       "    <tr>\n",
       "      <th>4</th>\n",
       "      <td>19.0</td>\n",
       "      <td>966859.0</td>\n",
       "      <td>-1.599552e+06</td>\n",
       "      <td>1.247091e+06</td>\n",
       "      <td>2002-01-10</td>\n",
       "      <td>7</td>\n",
       "    </tr>\n",
       "  </tbody>\n",
       "</table>\n",
       "</div>"
      ],
      "text/plain": [
       "   _uid_        id     longitude      latitude initialdate  days\n",
       "0   16.0  966855.0 -2.107749e+06  1.663840e+06  2002-01-08     0\n",
       "1   19.0  966859.0 -1.599552e+06  1.247091e+06  2002-01-08     7\n",
       "2   19.0  966859.0 -1.599552e+06  1.247091e+06  2002-01-09     7\n",
       "3   17.0  966856.0 -2.106833e+06  1.661532e+06  2002-01-10     0\n",
       "4   19.0  966859.0 -1.599552e+06  1.247091e+06  2002-01-10     7"
      ]
     },
     "execution_count": 2,
     "metadata": {},
     "output_type": "execute_result"
    }
   ],
   "source": [
    "df = pd.read_csv('../assets/fire_locs.csv')\n",
    "df.head()"
   ]
  },
  {
   "cell_type": "code",
   "execution_count": 3,
   "metadata": {},
   "outputs": [],
   "source": [
    "df['initialdate'] = pd.to_datetime(df['initialdate'])"
   ]
  },
  {
   "cell_type": "code",
   "execution_count": 5,
   "metadata": {},
   "outputs": [],
   "source": [
    "for i in [1, 2, 4, 8, 16, 32]:\n",
    "    this_df = df.copy(deep=True)\n",
    "    this_df['initialdate'] = this_df['initialdate'] - pd.Timedelta(days=i)\n",
    "    this_df.to_csv(f'../assets/T-{i}.csv', index=False)"
   ]
  },
  {
   "cell_type": "code",
   "execution_count": null,
   "metadata": {},
   "outputs": [],
   "source": []
  }
 ],
 "metadata": {
  "kernelspec": {
   "display_name": "xarray_env",
   "language": "python",
   "name": "python3"
  },
  "language_info": {
   "codemirror_mode": {
    "name": "ipython",
    "version": 3
   },
   "file_extension": ".py",
   "mimetype": "text/x-python",
   "name": "python",
   "nbconvert_exporter": "python",
   "pygments_lexer": "ipython3",
   "version": "3.10.13"
  }
 },
 "nbformat": 4,
 "nbformat_minor": 2
}
