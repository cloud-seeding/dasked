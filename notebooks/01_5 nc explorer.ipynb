{
 "cells": [
  {
   "cell_type": "code",
   "execution_count": 1,
   "metadata": {},
   "outputs": [],
   "source": [
    "import netCDF4"
   ]
  },
  {
   "cell_type": "code",
   "execution_count": 2,
   "metadata": {},
   "outputs": [],
   "source": [
    "nc = netCDF4.Dataset('/media/bharxhav/valhalla/NARR/omega/omega.200003.nc')"
   ]
  },
  {
   "cell_type": "code",
   "execution_count": 3,
   "metadata": {},
   "outputs": [
    {
     "data": {
      "text/plain": [
       "<class 'netCDF4._netCDF4.Dataset'>\n",
       "root group (NETCDF4_CLASSIC data model, file format HDF5):\n",
       "    Conventions: CF-1.2\n",
       "    centerlat: 50.0\n",
       "    centerlon: -107.0\n",
       "    comments: \n",
       "    institution: National Centers for Environmental Prediction\n",
       "    latcorners: [ 1.000001  0.897945 46.3544   46.63433 ]\n",
       "    loncorners: [-145.5       -68.32005    -2.569891  148.6418  ]\n",
       "    platform: Model\n",
       "    standardpar1: 50.0\n",
       "    standardpar2: 50.000001\n",
       "    title: 8x Daily NARR\n",
       "    history: created Fri Feb 19 05:04:25 MST 2016 by NOAA/ESRL/PSD\n",
       "    dataset_title: NCEP North American Regional Reanalysis (NARR)\n",
       "    references: https://www.esrl.noaa.gov/psd/data/gridded/data.narr.html\n",
       "    source: http://www.emc.ncep.noaa.gov/mmb/rreanl/index.html\n",
       "    References: \n",
       "    dimensions(sizes): time(248), level(29), y(277), x(349)\n",
       "    variables(dimensions): float64 time(time), float32 level(level), float32 lat(y, x), float32 lon(y, x), float32 y(y), float32 x(x), int32 Lambert_Conformal(), float32 omega(time, level, y, x)\n",
       "    groups: "
      ]
     },
     "execution_count": 3,
     "metadata": {},
     "output_type": "execute_result"
    }
   ],
   "source": [
    "nc"
   ]
  },
  {
   "cell_type": "code",
   "execution_count": 4,
   "metadata": {},
   "outputs": [
    {
     "data": {
      "text/plain": [
       "{'time': <class 'netCDF4._netCDF4.Variable'>\n",
       " float64 time(time)\n",
       "     axis: T\n",
       "     coordinate_defines: point\n",
       "     delta_t: 0000-00-00 03:00:00\n",
       "     long_name: Time\n",
       "     standard_name: time\n",
       "     units: hours since 1800-1-1 00:00:0.0\n",
       "     actual_range: [1754592. 1755333.]\n",
       " unlimited dimensions: time\n",
       " current shape = (248,)\n",
       " filling on, default _FillValue of 9.969209968386869e+36 used,\n",
       " 'level': <class 'netCDF4._netCDF4.Variable'>\n",
       " float32 level(level)\n",
       "     GRIB_id: 100\n",
       "     GRIB_name: hPa\n",
       "     actual_range: [1000.  100.]\n",
       "     axis: Z\n",
       "     coordinate_defines: point\n",
       "     long_name: Level\n",
       "     positive: down\n",
       "     standard_name: level\n",
       "     units: millibar\n",
       " unlimited dimensions: \n",
       " current shape = (29,)\n",
       " filling on, default _FillValue of 9.969209968386869e+36 used,\n",
       " 'lat': <class 'netCDF4._netCDF4.Variable'>\n",
       " float32 lat(y, x)\n",
       "     axis: Y\n",
       "     coordinate_defines: point\n",
       "     long_name: Latitude\n",
       "     standard_name: latitude\n",
       "     units: degrees_north\n",
       " unlimited dimensions: \n",
       " current shape = (277, 349)\n",
       " filling on, default _FillValue of 9.969209968386869e+36 used,\n",
       " 'lon': <class 'netCDF4._netCDF4.Variable'>\n",
       " float32 lon(y, x)\n",
       "     axis: X\n",
       "     coordinate_defines: point\n",
       "     long_name: Longitude\n",
       "     standard_name: longitude\n",
       "     units: degrees_east\n",
       " unlimited dimensions: \n",
       " current shape = (277, 349)\n",
       " filling on, default _FillValue of 9.969209968386869e+36 used,\n",
       " 'y': <class 'netCDF4._netCDF4.Variable'>\n",
       " float32 y(y)\n",
       "     long_name: northward distance from southwest corner of domain in projection coordinates\n",
       "     standard_name: projection_y_coordinate\n",
       "     units: m\n",
       " unlimited dimensions: \n",
       " current shape = (277,)\n",
       " filling on, default _FillValue of 9.969209968386869e+36 used,\n",
       " 'x': <class 'netCDF4._netCDF4.Variable'>\n",
       " float32 x(x)\n",
       "     long_name: eastward distance from southwest corner of domain in projection coordinates\n",
       "     standard_name: projection_x_coordinate\n",
       "     units: m\n",
       " unlimited dimensions: \n",
       " current shape = (349,)\n",
       " filling on, default _FillValue of 9.969209968386869e+36 used,\n",
       " 'Lambert_Conformal': <class 'netCDF4._netCDF4.Variable'>\n",
       " int32 Lambert_Conformal()\n",
       "     false_easting: 5632642.22547\n",
       "     false_northing: 4612545.65137\n",
       "     grid_mapping_name: lambert_conformal_conic\n",
       "     latitude_of_projection_origin: 50.0\n",
       "     longitude_of_central_meridian: -107.0\n",
       "     standard_parallel: [50. 50.]\n",
       " unlimited dimensions: \n",
       " current shape = ()\n",
       " filling on, default _FillValue of -2147483647 used,\n",
       " 'omega': <class 'netCDF4._netCDF4.Variable'>\n",
       " float32 omega(time, level, y, x)\n",
       "     GRIB_id: 39\n",
       "     GRIB_name: VVEL\n",
       "     _FillValue: 9.96921e+36\n",
       "     coordinates: lat lon\n",
       "     dataset: NARR 3-hourly\n",
       "     grid_mapping: Lambert_Conformal\n",
       "     level_desc: Pressure Levels\n",
       "     long_name: 3-hourly Omega on Pressure Levels\n",
       "     parent_stat: Other\n",
       "     standard_name: omega\n",
       "     statistic: Individual Obs\n",
       "     units: Pascal/s\n",
       "     var_desc: Omega (dp/dt)\n",
       "     actual_range: [-7.822199   5.7595387]\n",
       "     missing_value: -9.96921e+36\n",
       "     valid_range: [-21.  18.]\n",
       " unlimited dimensions: time\n",
       " current shape = (248, 29, 277, 349)\n",
       " filling on}"
      ]
     },
     "execution_count": 4,
     "metadata": {},
     "output_type": "execute_result"
    }
   ],
   "source": [
    "nc.variables"
   ]
  },
  {
   "cell_type": "code",
   "execution_count": 5,
   "metadata": {},
   "outputs": [
    {
     "data": {
      "text/plain": [
       "dict_keys(['time', 'level', 'lat', 'lon', 'y', 'x', 'Lambert_Conformal', 'omega'])"
      ]
     },
     "execution_count": 5,
     "metadata": {},
     "output_type": "execute_result"
    }
   ],
   "source": [
    "nc.variables.keys()"
   ]
  },
  {
   "cell_type": "code",
   "execution_count": 6,
   "metadata": {},
   "outputs": [
    {
     "name": "stdout",
     "output_type": "stream",
     "text": [
      "('time',)\n",
      "('level',)\n",
      "('y', 'x')\n",
      "('y', 'x')\n",
      "('y',)\n",
      "('x',)\n",
      "()\n",
      "('time', 'level', 'y', 'x')\n"
     ]
    }
   ],
   "source": [
    "# Checking dimensions of each variable\n",
    "\n",
    "for var in nc.variables:\n",
    "    print(nc.variables[var].dimensions)"
   ]
  },
  {
   "cell_type": "code",
   "execution_count": 7,
   "metadata": {},
   "outputs": [
    {
     "name": "stdout",
     "output_type": "stream",
     "text": [
      "(248,)\n",
      "(29,)\n",
      "(277, 349)\n",
      "(277, 349)\n",
      "(277,)\n",
      "(349,)\n",
      "()\n",
      "(248, 29, 277, 349)\n"
     ]
    }
   ],
   "source": [
    "for var in nc.variables:\n",
    "    print(nc.variables[var].shape)"
   ]
  },
  {
   "cell_type": "code",
   "execution_count": null,
   "metadata": {},
   "outputs": [],
   "source": [
    "nc.variables['omega'].shape"
   ]
  },
  {
   "cell_type": "code",
   "execution_count": null,
   "metadata": {},
   "outputs": [],
   "source": [
    "nc.variables['omega'].units"
   ]
  },
  {
   "cell_type": "code",
   "execution_count": null,
   "metadata": {},
   "outputs": [],
   "source": [
    "# Getting a sample of Omega\n",
    "\n",
    "nc.variables['omega'][0, 0, 0, 0]"
   ]
  },
  {
   "cell_type": "code",
   "execution_count": null,
   "metadata": {},
   "outputs": [],
   "source": [
    "# Getting few values of Omega\n",
    "\n",
    "nc.variables['omega'][0, 0, 0, 0:10]"
   ]
  },
  {
   "cell_type": "code",
   "execution_count": null,
   "metadata": {},
   "outputs": [],
   "source": [
    "nc.variables['time'][:10]"
   ]
  },
  {
   "cell_type": "code",
   "execution_count": 8,
   "metadata": {},
   "outputs": [
    {
     "data": {
      "text/plain": [
       "masked_array(data=[1000.,  975.,  950.,  925.,  900.,  875.,  850.,  825.,\n",
       "                    800.,  775.,  750.,  725.,  700.,  650.,  600.,  550.,\n",
       "                    500.,  450.,  400.,  350.,  300.,  275.,  250.,  225.,\n",
       "                    200.,  175.,  150.,  125.,  100.],\n",
       "             mask=False,\n",
       "       fill_value=np.float64(1e+20),\n",
       "            dtype=float32)"
      ]
     },
     "execution_count": 8,
     "metadata": {},
     "output_type": "execute_result"
    }
   ],
   "source": [
    "nc.variables['level'][:]"
   ]
  },
  {
   "cell_type": "code",
   "execution_count": null,
   "metadata": {},
   "outputs": [],
   "source": [
    "nc.variables['lat'][:]"
   ]
  },
  {
   "cell_type": "code",
   "execution_count": null,
   "metadata": {},
   "outputs": [],
   "source": [
    "nc.variables['lon'][:]"
   ]
  },
  {
   "cell_type": "code",
   "execution_count": null,
   "metadata": {},
   "outputs": [],
   "source": [
    "ds = nc"
   ]
  },
  {
   "cell_type": "code",
   "execution_count": null,
   "metadata": {},
   "outputs": [],
   "source": [
    "# Step 2: Extract variables\n",
    "time = ds.variables[\"time\"][:]\n",
    "level = ds.variables[\"level\"][:]\n",
    "lat = ds.variables[\"lat\"][:]\n",
    "lon = ds.variables[\"lon\"][:]\n",
    "x = ds.variables[\"x\"][:]\n",
    "y = ds.variables[\"y\"][:]\n",
    "omega = ds.variables[\"omega\"][:]"
   ]
  },
  {
   "cell_type": "code",
   "execution_count": null,
   "metadata": {},
   "outputs": [],
   "source": [
    "import numpy as np\n",
    "\n",
    "actual_lat, actual_lon = np.meshgrid(lat, lon)"
   ]
  },
  {
   "cell_type": "code",
   "execution_count": null,
   "metadata": {},
   "outputs": [],
   "source": [
    "time_len = len(time)\n",
    "level_len = len(level)\n",
    "lat_len, lon_len = actual_lat.shape"
   ]
  },
  {
   "cell_type": "code",
   "execution_count": null,
   "metadata": {},
   "outputs": [],
   "source": [
    "# Expand grid to match the dimensions\n",
    "time_expanded = np.repeat(time, level_len * lat_len * lon_len)\n",
    "level_expanded = np.tile(np.repeat(level, lat_len * lon_len), time_len)\n",
    "actual_lat_expanded = np.tile(actual_lat.flatten(), time_len * level_len)\n",
    "actual_lon_expanded = np.tile(actual_lon.flatten(), time_len * level_len)\n",
    "omega_expanded = omega.flatten()"
   ]
  },
  {
   "cell_type": "code",
   "execution_count": null,
   "metadata": {},
   "outputs": [],
   "source": [
    "import pandas as pd\n",
    "\n",
    "# Step 5: Create the DataFrame\n",
    "data = {\n",
    "    \"time\": time_expanded,\n",
    "    \"level\": level_expanded,\n",
    "    \"actual_lat\": actual_lat_expanded,\n",
    "    \"actual_lon\": actual_lon_expanded,\n",
    "    \"omega\": omega_expanded,\n",
    "}\n",
    "\n",
    "df = pd.DataFrame(data)\n",
    "\n",
    "# Step 6: Save to CSV\n",
    "output_file = \"output.csv\"\n",
    "df.to_csv(output_file, index=False)"
   ]
  },
  {
   "cell_type": "code",
   "execution_count": null,
   "metadata": {},
   "outputs": [],
   "source": []
  }
 ],
 "metadata": {
  "kernelspec": {
   "display_name": "xarray_env",
   "language": "python",
   "name": "python3"
  },
  "language_info": {
   "codemirror_mode": {
    "name": "ipython",
    "version": 3
   },
   "file_extension": ".py",
   "mimetype": "text/x-python",
   "name": "python",
   "nbconvert_exporter": "python",
   "pygments_lexer": "ipython3",
   "version": "3.10.13"
  }
 },
 "nbformat": 4,
 "nbformat_minor": 2
}
